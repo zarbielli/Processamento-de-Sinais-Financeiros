{
 "cells": [
  {
   "cell_type": "markdown",
   "metadata": {},
   "source": [
    "## Ações por seguimentos\n",
    "\n",
    "### Índice de Consumo (ICON)\n",
    "    -Ambev ON\n",
    "    -Via Varejo ON \n",
    "    -Marfrig ON\n",
    "\n",
    "### Índice de Energia Elétrica (IEE)\n",
    "    -Cemig PN\n",
    "    -Eletrobras ON\n",
    "    -Omega Ger ON \n",
    "\n",
    "    \n",
    "### Índice de Materiais Básicos (IMAT)\n",
    "    -Met. Gerdau PN\n",
    "    -Vale ON\n",
    "    -Gerdau PN\n",
    "\n",
    "    \n",
    "### Índice do Setor Industrial (INDX)\n",
    "    -Met. Gerdau PN\n",
    "    -Gerdau PN\n",
    "    -Marfrig ON \n",
    "\n",
    "### Índice Financeiro (IFNC)\n",
    "    -Itau Unibanco PN\n",
    "    -Itausa PN\n",
    "    -Cielo ON\n",
    "    \n"
   ]
  },
  {
   "cell_type": "code",
   "execution_count": null,
   "metadata": {},
   "outputs": [],
   "source": []
  }
 ],
 "metadata": {
  "kernelspec": {
   "display_name": "Python 3",
   "language": "python",
   "name": "python3"
  },
  "language_info": {
   "codemirror_mode": {
    "name": "ipython",
    "version": 3
   },
   "file_extension": ".py",
   "mimetype": "text/x-python",
   "name": "python",
   "nbconvert_exporter": "python",
   "pygments_lexer": "ipython3",
   "version": "3.7.4"
  }
 },
 "nbformat": 4,
 "nbformat_minor": 2
}
